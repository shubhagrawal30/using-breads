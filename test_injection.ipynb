{
 "cells": [
  {
   "cell_type": "code",
   "execution_count": 1,
   "source": [
    "print(\"starting\")\n",
    "import sys\n",
    "from ipywidgets.widgets.widget_output import Output\n",
    "sys.path.append(\"/scr3/jruffio/shubh/breads/\")\n",
    "import numpy as np\n",
    "import matplotlib.pyplot as plt\n",
    "from  scipy.interpolate import interp1d\n",
    "import os\n",
    "import astropy.io.fits as pyfits\n",
    "from pathlib import Path\n",
    "from breads.fit import fitfm\n",
    "from copy import deepcopy\n",
    "import multiprocessing as mp\n",
    "from itertools import repeat\n",
    "from multiprocessing.pool import ThreadPool\n",
    "from concurrent.futures import ProcessPoolExecutor as Pool\n",
    "\n",
    "numthreads = 16\n",
    "\n",
    "print(\"Importing mkl\")\n",
    "try:\n",
    "    import mkl\n",
    "    mkl.set_num_threads(1)\n",
    "except:\n",
    "    pass\n",
    "\n",
    "print(\"Importing breads\")\n",
    "from breads.instruments.OSIRIS import OSIRIS\n",
    "from breads.search_planet import search_planet\n",
    "from breads.fm.hc_splinefm import hc_splinefm\n",
    "from breads.fm.hc_no_splinefm import hc_no_splinefm\n",
    "from breads.fm.hc_hpffm import hc_hpffm\n",
    "from breads.injection import inject_planet, read_planet_info\n",
    "import arguments\n",
    "\n",
    "star = \"SR3\"\n",
    "dir_name = arguments.dir_name[star]\n",
    "tr_dir = arguments.tr_dir[star]\n",
    "sky_calib_file = arguments.sky_calib_file[star]\n",
    "files = os.listdir(dir_name)"
   ],
   "outputs": [
    {
     "output_type": "stream",
     "name": "stdout",
     "text": [
      "starting\n",
      "Importing mkl\n",
      "Importing breads\n"
     ]
    }
   ],
   "metadata": {}
  },
  {
   "cell_type": "code",
   "execution_count": 2,
   "source": [
    "%matplotlib widget"
   ],
   "outputs": [],
   "metadata": {}
  },
  {
   "cell_type": "code",
   "execution_count": 3,
   "source": [
    "print(\"Reading planet file\")\n",
    "planet_btsettl = \"/scr3/jruffio/models/BT-Settl/BT-Settl_M-0.0_a+0.0/lte018-5.0-0.0a+0.0.BT-Settl.spec.7\"\n",
    "arr = np.genfromtxt(planet_btsettl, delimiter=[12, 14], dtype=np.float64,\n",
    "                converters={1: lambda x: float(x.decode(\"utf-8\").replace('D', 'e'))})\n",
    "model_wvs = arr[:, 0] / 1e4\n",
    "model_spec = 10 ** (arr[:, 1] - 8)\n",
    "\n",
    "tr_files = os.listdir(tr_dir)\n",
    "if \"plots\" in tr_files:\n",
    "    tr_files.remove(\"plots\")\n",
    "tr_counter = 0\n",
    "tr_total = len(tr_files)"
   ],
   "outputs": [
    {
     "output_type": "stream",
     "name": "stdout",
     "text": [
      "Reading planet file\n"
     ]
    }
   ],
   "metadata": {}
  },
  {
   "cell_type": "code",
   "execution_count": 4,
   "source": [
    "filename = files[1]\n",
    "rvs = np.array([0])\n",
    "ys = np.arange(0, 2)\n",
    "xs = np.arange(0, 2)\n",
    "flux = np.zeros((len(ys), len(xs))) * np.nan\n",
    "noise = np.zeros((len(ys), len(xs))) * np.nan\n",
    "print(filename)\n",
    "dataobj = OSIRIS(dir_name+filename) \n",
    "nz,ny,nx = dataobj.data.shape\n",
    "\n",
    "print(\"sky calibrating\")\n",
    "dataobj.calibrate(sky_calib_file)\n",
    "\n",
    "spec_file = dir_name+\"spectra/\"+filename[:-5]+\"_spectrum.fits\"\n",
    "print(\"Reading spectrum file\", spec_file)\n",
    "with pyfits.open(spec_file) as hdulist:\n",
    "    star_spectrum = hdulist[2].data\n",
    "    mu_x = hdulist[3].data\n",
    "    mu_y = hdulist[4].data\n",
    "    sig_x = hdulist[5].data\n",
    "    sig_y = hdulist[6].data"
   ],
   "outputs": [
    {
     "output_type": "stream",
     "name": "stdout",
     "text": [
      "s210626_a018002_Kn5_020.fits\n",
      "sky calibrating\n",
      "Reading spectrum file /scr3/jruffio/data/osiris_survey/targets/SR3/210626/first/reduced/spectra/s210626_a018002_Kn5_020_spectrum.fits\n"
     ]
    }
   ],
   "metadata": {}
  },
  {
   "cell_type": "code",
   "execution_count": 6,
   "source": [
    "print(\"setting planet model\")\n",
    "minwv,maxwv= np.nanmin(dataobj.wavelengths),np.nanmax(dataobj.wavelengths)\n",
    "crop_btsettl = np.where((model_wvs > minwv - 0.2) * (model_wvs < maxwv + 0.2))\n",
    "model_wvs = model_wvs[crop_btsettl]\n",
    "model_spec = model_spec[crop_btsettl]\n",
    "model_broadspec = dataobj.broaden(model_wvs,model_spec)\n",
    "planet_f = interp1d(model_wvs, model_broadspec, bounds_error=False, fill_value=np.nan)"
   ],
   "outputs": [
    {
     "output_type": "stream",
     "name": "stdout",
     "text": [
      "setting planet model\n"
     ]
    }
   ],
   "metadata": {}
  },
  {
   "cell_type": "code",
   "execution_count": 7,
   "source": [
    "tr_counter = (tr_counter + 1) % tr_total\n",
    "tr_file = tr_dir + tr_files[tr_counter]\n",
    "print(\"Reading transmission file\", tr_file)\n",
    "with pyfits.open(tr_file) as hdulist:\n",
    "    transmission = hdulist[0].data"
   ],
   "outputs": [
    {
     "output_type": "stream",
     "name": "stdout",
     "text": [
      "Reading transmission file /scr3/jruffio/data/osiris_survey/targets/SR3/210626/first/reduced/spectra/s210626_a024002_Kn5_020_spectrum.fits\n"
     ]
    }
   ],
   "metadata": {}
  },
  {
   "cell_type": "code",
   "execution_count": 8,
   "source": [
    "print(\"setting reference position\")\n",
    "dataobj.set_reference_position((np.nanmedian(mu_y), np.nanmedian(mu_x)))\n",
    "print(dataobj.refpos)"
   ],
   "outputs": [
    {
     "output_type": "stream",
     "name": "stdout",
     "text": [
      "setting reference position\n",
      "(35.19478548211935, 25.014189272358163)\n"
     ]
    }
   ],
   "metadata": {}
  },
  {
   "cell_type": "code",
   "execution_count": 9,
   "source": [
    "dat = deepcopy(dataobj.data)"
   ],
   "outputs": [],
   "metadata": {}
  },
  {
   "cell_type": "code",
   "execution_count": null,
   "source": [
    "plt.figure()\n",
    "plt.imshow(np.nanmedian(dataobj.data, axis=0))\n",
    "plt.colorbar()"
   ],
   "outputs": [
    {
     "output_type": "display_data",
     "data": {
      "application/vnd.jupyter.widget-view+json": {
       "version_major": 2,
       "version_minor": 0,
       "model_id": "0302da87e8194709b45a149d66c063e7"
      },
      "text/plain": [
       "Canvas(toolbar=Toolbar(toolitems=[('Home', 'Reset original view', 'home', 'home'), ('Back', 'Back to previous …"
      ]
     },
     "metadata": {}
    },
    {
     "output_type": "execute_result",
     "data": {
      "text/plain": [
       "<matplotlib.image.AxesImage at 0x7f0abf4ebd60>"
      ]
     },
     "metadata": {},
     "execution_count": 27
    }
   ],
   "metadata": {}
  },
  {
   "cell_type": "code",
   "execution_count": 28,
   "source": [
    "flux_ratio = 1\n",
    "location = (10, -10)\n",
    "inject_planet(dataobj, location, planet_f, spec_file, transmission, flux_ratio)"
   ],
   "outputs": [
    {
     "output_type": "stream",
     "name": "stdout",
     "text": [
      "planet model is interp1d\n",
      "reading star info\n",
      "start injection\n",
      "normalizing and adding to data\n"
     ]
    }
   ],
   "metadata": {}
  },
  {
   "cell_type": "code",
   "execution_count": null,
   "source": [
    "plt.figure()\n",
    "plt.imshow(np.nanmedian(dataobj.data, axis=0))\n",
    "plt.colorbar()"
   ],
   "outputs": [
    {
     "output_type": "display_data",
     "data": {
      "application/vnd.jupyter.widget-view+json": {
       "version_major": 2,
       "version_minor": 0,
       "model_id": "3090ae1009e244ff86816136a93a5895"
      },
      "text/plain": [
       "Canvas(toolbar=Toolbar(toolitems=[('Home', 'Reset original view', 'home', 'home'), ('Back', 'Back to previous …"
      ]
     },
     "metadata": {}
    },
    {
     "output_type": "execute_result",
     "data": {
      "text/plain": [
       "<matplotlib.colorbar.Colorbar at 0x7f0abbedaac0>"
      ]
     },
     "metadata": {},
     "execution_count": 52
    }
   ],
   "metadata": {}
  },
  {
   "cell_type": "code",
   "execution_count": 26,
   "source": [
    "dataobj.data = deepcopy(dat)"
   ],
   "outputs": [],
   "metadata": {}
  },
  {
   "cell_type": "code",
   "execution_count": 30,
   "source": [
    "plt.close('all')"
   ],
   "outputs": [],
   "metadata": {}
  },
  {
   "cell_type": "code",
   "execution_count": 31,
   "source": [
    "star_loc = int(np.nanmedian(mu_y)), int(np.nanmedian(mu_x))\n",
    "target_loc = int(np.nanmedian(mu_y)+location[1]), int(np.nanmedian(mu_x)+location[0])\n",
    "star_loc, target_loc"
   ],
   "outputs": [
    {
     "output_type": "execute_result",
     "data": {
      "text/plain": [
       "((35, 25), (25, 35))"
      ]
     },
     "metadata": {},
     "execution_count": 31
    }
   ],
   "metadata": {}
  },
  {
   "cell_type": "code",
   "execution_count": 32,
   "source": [
    "boxw = 10\n",
    "print(np.nansum(dataobj.data[:, star_loc[1]-boxw:star_loc[1]+boxw, star_loc[0]-boxw:star_loc[0]+boxw]))\n",
    "print(np.nansum(dat[:, star_loc[1]-boxw:star_loc[1]+boxw, star_loc[0]-boxw:star_loc[0]+boxw]))\n",
    "print(np.nansum(dataobj.data[:, target_loc[1]-boxw:target_loc[1]+boxw, target_loc[0]-boxw:target_loc[0]+boxw]))\n",
    "print(np.nansum(dat[:, target_loc[1]-boxw:target_loc[1]+boxw, target_loc[0]-boxw:target_loc[0]+boxw]))"
   ],
   "outputs": [
    {
     "output_type": "stream",
     "name": "stdout",
     "text": [
      "6618374.0\n",
      "5479881.0\n",
      "6676458.0\n",
      "1646298.1\n"
     ]
    }
   ],
   "metadata": {}
  },
  {
   "cell_type": "code",
   "execution_count": 15,
   "source": [
    "np.nanmedian(sig_x), np.nanmedian(sig_y)"
   ],
   "outputs": [
    {
     "output_type": "execute_result",
     "data": {
      "text/plain": [
       "(1.4360245838637633, 1.7309670749580277)"
      ]
     },
     "metadata": {},
     "execution_count": 15
    }
   ],
   "metadata": {}
  },
  {
   "cell_type": "code",
   "execution_count": 48,
   "source": [
    "nonlin_paras = [0, location[0], location[1]] # rv (km/s), y (pix), x (pix)\n",
    "fm_paras = {\"planet_f\":planet_f,\"transmission\":transmission,\"star_spectrum\":star_spectrum,\n",
    "            \"boxw\":5,\"nodes\":5,\"psfw\":(1, 1),\n",
    "            \"badpixfraction\":0.75,\"optimize_nodes\":True}\n",
    "fm_func = hc_no_splinefm\n",
    "dataobj.set_noise()\n",
    "# plt.plot(dataobj.data[:, 37, 44])\n",
    "# plt.show()\n",
    "# exit()\n",
    "\n",
    "# log_prob,log_prob_H0,rchi2,linparas,linparas_err = fitfm(nonlin_paras,dataobj,fm_func,fm_paras)\n",
    "# print(log_prob,log_prob_H0,rchi2,linparas,linparas_err)\n",
    "d, M, s = fm_func(nonlin_paras,dataobj,**fm_paras)\n",
    "\n",
    "validpara = np.where(np.sum(M,axis=0)!=0)\n",
    "M = M[:,validpara[0]]\n",
    "d = d / s\n",
    "M = M / s[:, None]\n",
    "print(M.shape, d.shape, s.shape)\n",
    "from scipy.optimize import lsq_linear\n",
    "paras = lsq_linear(M, d).x\n",
    "m = np.dot(M,paras)\n",
    "\n",
    "print(\"plotting\")\n",
    "\n",
    "plt.figure()\n",
    "plt.subplot(2,1,1)\n",
    "plt.plot(d,label=\"data\")\n",
    "plt.plot(m,label=\"model\")\n",
    "plt.plot(paras[0]*M[:,0],label=\"planet model\")\n",
    "plt.plot(m-paras[0]*M[:,0],label=\"starlight model\")\n",
    "plt.legend()\n",
    "plt.subplot(2,1,2)\n",
    "plt.plot(M[:,0]/np.max(M[:,0]),label=\"planet model\")\n",
    "for k in range(M.shape[-1]-1):\n",
    "    plt.plot(M[:,k+1]/np.nanmax(M[:,k+1]),label=\"starlight model {0}\".format(k+1))\n",
    "plt.legend()\n",
    "\n",
    "paras_H0 = lsq_linear(M[:,1::], d).x\n",
    "m_H0 = np.dot(M[:,1::] , paras_H0)\n",
    "r_H0 = d  - m_H0\n",
    "r = d - m\n",
    "\n",
    "plt.figure()\n",
    "plt.plot(np.cumsum((r) ** 2),label=\"Residuals\")\n",
    "plt.plot(np.cumsum((r_H0) ** 2),label=\"Residuals H0\")\n",
    "plt.plot(np.cumsum((r_H0) ** 2 - (r) ** 2),label=\"Residuals H0 - H1\")\n",
    "plt.legend()\n",
    "plt.show()\n",
    "print(paras)"
   ],
   "outputs": [
    {
     "output_type": "stream",
     "name": "stdout",
     "text": [
      "(11625, 126) (11625,) (11625,)\n",
      "plotting\n"
     ]
    },
    {
     "output_type": "display_data",
     "data": {
      "application/vnd.jupyter.widget-view+json": {
       "version_major": 2,
       "version_minor": 0,
       "model_id": "21a8ca2101634e269681628eee2a6b4b"
      },
      "text/plain": [
       "Canvas(toolbar=Toolbar(toolitems=[('Home', 'Reset original view', 'home', 'home'), ('Back', 'Back to previous …"
      ]
     },
     "metadata": {}
    },
    {
     "output_type": "display_data",
     "data": {
      "application/vnd.jupyter.widget-view+json": {
       "version_major": 2,
       "version_minor": 0,
       "model_id": "d0fb32ea75f44cb095968c6c5d9c4209"
      },
      "text/plain": [
       "Canvas(toolbar=Toolbar(toolitems=[('Home', 'Reset original view', 'home', 'home'), ('Back', 'Back to previous …"
      ]
     },
     "metadata": {}
    },
    {
     "output_type": "stream",
     "name": "stdout",
     "text": [
      "[9.32584746e-01 3.23568425e-04 2.95762012e-04 2.75367952e-04\n",
      " 2.65675935e-04 2.43270989e-04 6.68022881e-04 7.03894104e-04\n",
      " 7.05934239e-04 7.26486758e-04 7.43367707e-04 1.16498145e-03\n",
      " 1.33440432e-03 1.36803694e-03 1.42703475e-03 1.42289080e-03\n",
      " 1.11569608e-03 1.21958464e-03 1.20253023e-03 1.20601521e-03\n",
      " 1.15717341e-03 5.64001743e-04 5.64406525e-04 5.21650917e-04\n",
      " 5.11017003e-04 5.23158360e-04 5.38895275e-04 5.57019604e-04\n",
      " 5.67270545e-04 5.85878149e-04 5.75906525e-04 2.21598898e-03\n",
      " 2.45324778e-03 2.45377291e-03 2.52359911e-03 2.44096593e-03\n",
      " 4.19893061e-03 4.75816502e-03 4.76062555e-03 4.92435774e-03\n",
      " 4.78660871e-03 3.19033700e-03 3.59736445e-03 3.60806658e-03\n",
      " 3.72025532e-03 3.63309553e-03 1.03317991e-03 1.11772988e-03\n",
      " 1.12807593e-03 1.14397360e-03 1.13132403e-03 7.82573786e-04\n",
      " 7.93208339e-04 8.09803396e-04 8.37597091e-04 8.38056745e-04\n",
      " 3.55937997e-03 3.97726456e-03 3.98579592e-03 4.10072483e-03\n",
      " 3.98110539e-03 6.95576333e-03 7.82990082e-03 7.81075913e-03\n",
      " 8.04249447e-03 7.76517747e-03 5.13580186e-03 5.79474097e-03\n",
      " 5.78254492e-03 5.94821185e-03 5.74918638e-03 1.51174819e-03\n",
      " 1.67517643e-03 1.67086528e-03 1.70916735e-03 1.65376870e-03\n",
      " 5.50218171e-04 5.60887765e-04 5.59110127e-04 5.74652605e-04\n",
      " 5.75848999e-04 2.30400581e-03 2.55347120e-03 2.55754678e-03\n",
      " 2.63271492e-03 2.55870099e-03 4.41360578e-03 4.96503152e-03\n",
      " 4.93030872e-03 5.06610788e-03 4.85450053e-03 3.26952793e-03\n",
      " 3.65543414e-03 3.61877703e-03 3.70980360e-03 3.57082199e-03\n",
      " 9.88286406e-04 1.08508874e-03 1.07919723e-03 1.09571642e-03\n",
      " 1.07211685e-03 2.66147981e-04 2.52497170e-04 2.31177247e-04\n",
      " 2.24725269e-04 2.48663403e-04 6.91719606e-04 7.11005615e-04\n",
      " 7.39601689e-04 7.56245622e-04 7.87020031e-04 1.16820313e-03\n",
      " 1.31958629e-03 1.29991045e-03 1.32259401e-03 1.26668814e-03\n",
      " 8.84410367e-04 9.66390475e-04 9.35813680e-04 9.46436916e-04\n",
      " 8.98792175e-04 2.98286956e-04 3.37598581e-04 3.20426159e-04\n",
      " 3.27583557e-04 3.37908732e-04]\n"
     ]
    }
   ],
   "metadata": {}
  },
  {
   "cell_type": "code",
   "execution_count": 49,
   "source": [
    "fm_paras = {\"planet_f\":planet_f,\"transmission\":transmission,\"star_spectrum\":star_spectrum,\n",
    "            \"boxw\":5,\"nodes\":5,\"psfw\":(1, 1),\n",
    "            \"badpixfraction\":0.75,\"optimize_nodes\":True}\n",
    "fm_func = hc_no_splinefm\n",
    "dataobj.set_noise()\n",
    "out = search_planet([rvs,[location[0]],[location[1]]],dataobj,fm_func,fm_paras,numthreads=numthreads)"
   ],
   "outputs": [],
   "metadata": {}
  },
  {
   "cell_type": "code",
   "execution_count": 50,
   "source": [
    "N_linpara = (out.shape[-1]-2)//2\n",
    "out[0, 0, 0, 3], out[0, 0, 0, 3+N_linpara]"
   ],
   "outputs": [
    {
     "output_type": "execute_result",
     "data": {
      "text/plain": [
       "(0.9325847463455184, 0.0027933993936540467)"
      ]
     },
     "metadata": {},
     "execution_count": 50
    }
   ],
   "metadata": {}
  },
  {
   "cell_type": "code",
   "execution_count": 35,
   "source": [
    "location"
   ],
   "outputs": [
    {
     "output_type": "execute_result",
     "data": {
      "text/plain": [
       "(10, -10)"
      ]
     },
     "metadata": {},
     "execution_count": 35
    }
   ],
   "metadata": {}
  },
  {
   "cell_type": "code",
   "execution_count": null,
   "source": [],
   "outputs": [],
   "metadata": {}
  }
 ],
 "metadata": {
  "orig_nbformat": 4,
  "language_info": {
   "name": "python",
   "version": "3.8.10",
   "mimetype": "text/x-python",
   "codemirror_mode": {
    "name": "ipython",
    "version": 3
   },
   "pygments_lexer": "ipython3",
   "nbconvert_exporter": "python",
   "file_extension": ".py"
  },
  "kernelspec": {
   "name": "python3",
   "display_name": "Python 3.8.10 64-bit ('shubh': conda)"
  },
  "interpreter": {
   "hash": "1a8a730430b262bbc896ebcc582ec757fa4bae4551182f685bc52a07955917e4"
  }
 },
 "nbformat": 4,
 "nbformat_minor": 2
}